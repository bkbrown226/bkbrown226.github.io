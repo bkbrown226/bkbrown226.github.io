{
 "cells": [
  {
   "cell_type": "code",
   "execution_count": null,
   "metadata": {},
   "outputs": [],
   "source": [
    "%load_ext jupyter_record\n",
    "%set_filename Flight_Delay_Prediction.ipynb\n",
    "%autosave 60\n",
    "# do not change your notebook name\n",
    "# do not touch this cell"
   ]
  },
  {
   "cell_type": "markdown",
   "metadata": {},
   "source": [
    "# Section 0: Set-up\n",
    "\n",
    "Before starting this assignment, make sure that you have completed the set-up instuctions found here: https://docs.google.com/document/d/1i-fHZ54avLNDIVcVqAdYgKISXJUtC2QL8oR5i1XDMwU/edit?usp=sharing\n",
    "\n",
    "**Important:** Please complete the final step of the set-up instructions and confirm that you code_history folder contains\n",
    "\"Flight_Delay_Prediction_current_index.txt\" and \"Flight_Delay_Prediction_log_0.txt. \"\n",
    "**Important:** Make sure to document any LLM usage in this notebook."
   ]
  },
  {
   "cell_type": "code",
   "execution_count": 3,
   "metadata": {},
   "outputs": [
    {
     "name": "stdout",
     "output_type": "stream",
     "text": [
      "Hello World\n"
     ]
    }
   ],
   "source": [
    "print(\"Hello World\") # run before starting the assignment. Make sure that this line occurs in the \"Flight_Delay_Prediction_log_0.txt\" file.\n"
   ]
  },
  {
   "cell_type": "markdown",
   "metadata": {},
   "source": [
    "# Section 1: ChatGPT and Other Large Language Models\n",
    "\n",
    "You are allowed to use ChatGPT and other similar LLM code assistant tools. Note that you do not **HAVE TO** use such tools. However, we ask you to document how you use these tools in this section and your code.\n",
    "\n",
    "Please Respond with Yes or No: Did you use generative AI tools for this assignment?\n",
    "\n",
    "**Replace with Response**\n"
   ]
  },
  {
   "cell_type": "markdown",
   "metadata": {},
   "source": [
    "## List of Prompts\n",
    "\n",
    "Please keep track of all the prompts you used in this section. Please include all parts of multi-prompt questions, as well as any prompts whose outputs you didn't end up using. You should add the prompt you used to the list below:"
   ]
  },
  {
   "cell_type": "markdown",
   "metadata": {},
   "source": [
    "1. E.G. Create code that prints out \"hello world\" in Python.\n",
    "2. **Insert Prompt Here**"
   ]
  },
  {
   "cell_type": "markdown",
   "metadata": {},
   "source": [
    "## Prompts for Generated Code\n",
    "In a comment before any code, please also include a note if you used generative AI for the following lines of code. Specifically, please add a comment with the word \"GENERATED\" all in caps. If relevative, included the number for the relative corresponding prompt from the previous section in brackets.\n",
    "\n",
    "E.G."
   ]
  },
  {
   "cell_type": "code",
   "execution_count": 4,
   "metadata": {},
   "outputs": [
    {
     "name": "stdout",
     "output_type": "stream",
     "text": [
      "Hello World\n"
     ]
    }
   ],
   "source": [
    "# GENERATED (1)\n",
    "\n",
    "print(\"Hello World\")"
   ]
  },
  {
   "cell_type": "markdown",
   "metadata": {},
   "source": [
    "# Section 2: Data Preprocessing\n",
    "\n",
    "In this section, you should load your raw training dataset, and create your features for the model. You can find the data here: [shorturl.at/owMPS](https://shorturl.at/owMPS)\n",
    "\n",
    "**IMPORTANT**: Your data is in \"data\" folder within this repository. You can use pandas to import your data from the csv files. Any new files you create should to be in the \"data\" repository.\n",
    "\n",
    "The data files are as following:\n",
    "\n",
    "- training.csv: Seen/training data. Contains raw features and prediction class ('DepDel15').\n",
    "- testing_X.csv: Unseen/testing data. Contains only raw features, and no prediction class. \n",
    "- readme.html: Information about the features. \n",
    "\n"
   ]
  },
  {
   "cell_type": "code",
   "execution_count": 5,
   "metadata": {},
   "outputs": [
    {
     "data": {
      "text/html": [
       "<div>\n",
       "<style scoped>\n",
       "    .dataframe tbody tr th:only-of-type {\n",
       "        vertical-align: middle;\n",
       "    }\n",
       "\n",
       "    .dataframe tbody tr th {\n",
       "        vertical-align: top;\n",
       "    }\n",
       "\n",
       "    .dataframe thead th {\n",
       "        text-align: right;\n",
       "    }\n",
       "</style>\n",
       "<table border=\"1\" class=\"dataframe\">\n",
       "  <thead>\n",
       "    <tr style=\"text-align: right;\">\n",
       "      <th></th>\n",
       "      <th>Unnamed: 0</th>\n",
       "      <th>FlightDate</th>\n",
       "      <th>Airline</th>\n",
       "      <th>Origin</th>\n",
       "      <th>Dest</th>\n",
       "      <th>Cancelled</th>\n",
       "      <th>Diverted</th>\n",
       "      <th>CRSDepTime</th>\n",
       "      <th>CRSElapsedTime</th>\n",
       "      <th>Distance</th>\n",
       "      <th>...</th>\n",
       "      <th>DestAirportID</th>\n",
       "      <th>DestAirportSeqID</th>\n",
       "      <th>DestCityMarketID</th>\n",
       "      <th>DestCityName</th>\n",
       "      <th>DestState</th>\n",
       "      <th>DestStateFips</th>\n",
       "      <th>DestStateName</th>\n",
       "      <th>DestWac</th>\n",
       "      <th>DepDel15</th>\n",
       "      <th>CRSArrTime</th>\n",
       "    </tr>\n",
       "  </thead>\n",
       "  <tbody>\n",
       "    <tr>\n",
       "      <th>0</th>\n",
       "      <td>0</td>\n",
       "      <td>2018-01-23</td>\n",
       "      <td>Endeavor Air Inc.</td>\n",
       "      <td>ABY</td>\n",
       "      <td>ATL</td>\n",
       "      <td>False</td>\n",
       "      <td>False</td>\n",
       "      <td>1202</td>\n",
       "      <td>62.0</td>\n",
       "      <td>145.0</td>\n",
       "      <td>...</td>\n",
       "      <td>10397</td>\n",
       "      <td>1039707</td>\n",
       "      <td>30397</td>\n",
       "      <td>Atlanta, GA</td>\n",
       "      <td>GA</td>\n",
       "      <td>13</td>\n",
       "      <td>Georgia</td>\n",
       "      <td>34</td>\n",
       "      <td>0.0</td>\n",
       "      <td>1304</td>\n",
       "    </tr>\n",
       "    <tr>\n",
       "      <th>1</th>\n",
       "      <td>1</td>\n",
       "      <td>2018-01-24</td>\n",
       "      <td>Endeavor Air Inc.</td>\n",
       "      <td>ABY</td>\n",
       "      <td>ATL</td>\n",
       "      <td>False</td>\n",
       "      <td>False</td>\n",
       "      <td>1202</td>\n",
       "      <td>62.0</td>\n",
       "      <td>145.0</td>\n",
       "      <td>...</td>\n",
       "      <td>10397</td>\n",
       "      <td>1039707</td>\n",
       "      <td>30397</td>\n",
       "      <td>Atlanta, GA</td>\n",
       "      <td>GA</td>\n",
       "      <td>13</td>\n",
       "      <td>Georgia</td>\n",
       "      <td>34</td>\n",
       "      <td>0.0</td>\n",
       "      <td>1304</td>\n",
       "    </tr>\n",
       "    <tr>\n",
       "      <th>2</th>\n",
       "      <td>2</td>\n",
       "      <td>2018-01-25</td>\n",
       "      <td>Endeavor Air Inc.</td>\n",
       "      <td>ABY</td>\n",
       "      <td>ATL</td>\n",
       "      <td>False</td>\n",
       "      <td>False</td>\n",
       "      <td>1202</td>\n",
       "      <td>62.0</td>\n",
       "      <td>145.0</td>\n",
       "      <td>...</td>\n",
       "      <td>10397</td>\n",
       "      <td>1039707</td>\n",
       "      <td>30397</td>\n",
       "      <td>Atlanta, GA</td>\n",
       "      <td>GA</td>\n",
       "      <td>13</td>\n",
       "      <td>Georgia</td>\n",
       "      <td>34</td>\n",
       "      <td>0.0</td>\n",
       "      <td>1304</td>\n",
       "    </tr>\n",
       "    <tr>\n",
       "      <th>3</th>\n",
       "      <td>3</td>\n",
       "      <td>2018-01-26</td>\n",
       "      <td>Endeavor Air Inc.</td>\n",
       "      <td>ABY</td>\n",
       "      <td>ATL</td>\n",
       "      <td>False</td>\n",
       "      <td>False</td>\n",
       "      <td>1202</td>\n",
       "      <td>62.0</td>\n",
       "      <td>145.0</td>\n",
       "      <td>...</td>\n",
       "      <td>10397</td>\n",
       "      <td>1039707</td>\n",
       "      <td>30397</td>\n",
       "      <td>Atlanta, GA</td>\n",
       "      <td>GA</td>\n",
       "      <td>13</td>\n",
       "      <td>Georgia</td>\n",
       "      <td>34</td>\n",
       "      <td>0.0</td>\n",
       "      <td>1304</td>\n",
       "    </tr>\n",
       "    <tr>\n",
       "      <th>4</th>\n",
       "      <td>4</td>\n",
       "      <td>2018-01-27</td>\n",
       "      <td>Endeavor Air Inc.</td>\n",
       "      <td>ABY</td>\n",
       "      <td>ATL</td>\n",
       "      <td>False</td>\n",
       "      <td>False</td>\n",
       "      <td>1400</td>\n",
       "      <td>60.0</td>\n",
       "      <td>145.0</td>\n",
       "      <td>...</td>\n",
       "      <td>10397</td>\n",
       "      <td>1039707</td>\n",
       "      <td>30397</td>\n",
       "      <td>Atlanta, GA</td>\n",
       "      <td>GA</td>\n",
       "      <td>13</td>\n",
       "      <td>Georgia</td>\n",
       "      <td>34</td>\n",
       "      <td>0.0</td>\n",
       "      <td>1500</td>\n",
       "    </tr>\n",
       "  </tbody>\n",
       "</table>\n",
       "<p>5 rows × 41 columns</p>\n",
       "</div>"
      ],
      "text/plain": [
       "   Unnamed: 0  FlightDate            Airline Origin Dest  Cancelled  Diverted  \\\n",
       "0           0  2018-01-23  Endeavor Air Inc.    ABY  ATL      False     False   \n",
       "1           1  2018-01-24  Endeavor Air Inc.    ABY  ATL      False     False   \n",
       "2           2  2018-01-25  Endeavor Air Inc.    ABY  ATL      False     False   \n",
       "3           3  2018-01-26  Endeavor Air Inc.    ABY  ATL      False     False   \n",
       "4           4  2018-01-27  Endeavor Air Inc.    ABY  ATL      False     False   \n",
       "\n",
       "   CRSDepTime  CRSElapsedTime  Distance  ...  DestAirportID  DestAirportSeqID  \\\n",
       "0        1202            62.0     145.0  ...          10397           1039707   \n",
       "1        1202            62.0     145.0  ...          10397           1039707   \n",
       "2        1202            62.0     145.0  ...          10397           1039707   \n",
       "3        1202            62.0     145.0  ...          10397           1039707   \n",
       "4        1400            60.0     145.0  ...          10397           1039707   \n",
       "\n",
       "   DestCityMarketID  DestCityName  DestState DestStateFips DestStateName  \\\n",
       "0             30397   Atlanta, GA         GA            13       Georgia   \n",
       "1             30397   Atlanta, GA         GA            13       Georgia   \n",
       "2             30397   Atlanta, GA         GA            13       Georgia   \n",
       "3             30397   Atlanta, GA         GA            13       Georgia   \n",
       "4             30397   Atlanta, GA         GA            13       Georgia   \n",
       "\n",
       "   DestWac DepDel15 CRSArrTime  \n",
       "0       34      0.0       1304  \n",
       "1       34      0.0       1304  \n",
       "2       34      0.0       1304  \n",
       "3       34      0.0       1304  \n",
       "4       34      0.0       1500  \n",
       "\n",
       "[5 rows x 41 columns]"
      ]
     },
     "execution_count": 5,
     "metadata": {},
     "output_type": "execute_result"
    }
   ],
   "source": [
    "# Load training data\n",
    "import pandas as pd\n",
    "data = pd.read_csv('./data/training.csv')\n",
    "data.head()"
   ]
  },
  {
   "cell_type": "code",
   "execution_count": 6,
   "metadata": {},
   "outputs": [
    {
     "data": {
      "text/plain": [
       "array(['Unnamed: 0', 'FlightDate', 'Airline', 'Origin', 'Dest',\n",
       "       'Cancelled', 'Diverted', 'CRSDepTime', 'CRSElapsedTime',\n",
       "       'Distance', 'Year', 'Quarter', 'Month', 'DayofMonth', 'DayOfWeek',\n",
       "       'Marketing_Airline_Network',\n",
       "       'Operated_or_Branded_Code_Share_Partners',\n",
       "       'DOT_ID_Marketing_Airline', 'IATA_Code_Marketing_Airline',\n",
       "       'Operating_Airline', 'DOT_ID_Operating_Airline',\n",
       "       'IATA_Code_Operating_Airline', 'Tail_Number', 'OriginAirportID',\n",
       "       'OriginAirportSeqID', 'OriginCityMarketID', 'OriginCityName',\n",
       "       'OriginState', 'OriginStateFips', 'OriginStateName', 'OriginWac',\n",
       "       'DestAirportID', 'DestAirportSeqID', 'DestCityMarketID',\n",
       "       'DestCityName', 'DestState', 'DestStateFips', 'DestStateName',\n",
       "       'DestWac', 'DepDel15', 'CRSArrTime'], dtype=object)"
      ]
     },
     "execution_count": 6,
     "metadata": {},
     "output_type": "execute_result"
    }
   ],
   "source": [
    "data.columns.values"
   ]
  },
  {
   "cell_type": "markdown",
   "metadata": {},
   "source": [
    "Looking at these columns, a lot of them seem irrelevant to a flight's delay. Also, some of them seem redundant: e.g. the departure airport already determines the departure city and state. It is probably best that we don't use redundant columns."
   ]
  },
  {
   "cell_type": "code",
   "execution_count": 7,
   "metadata": {},
   "outputs": [
    {
     "data": {
      "text/plain": [
       "Unnamed: 0                                     0\n",
       "FlightDate                                     0\n",
       "Airline                                        0\n",
       "Origin                                         0\n",
       "Dest                                           0\n",
       "Cancelled                                      0\n",
       "Diverted                                       0\n",
       "CRSDepTime                                     0\n",
       "CRSElapsedTime                                 6\n",
       "Distance                                       0\n",
       "Year                                           0\n",
       "Quarter                                        0\n",
       "Month                                          0\n",
       "DayofMonth                                     0\n",
       "DayOfWeek                                      0\n",
       "Marketing_Airline_Network                      0\n",
       "Operated_or_Branded_Code_Share_Partners        0\n",
       "DOT_ID_Marketing_Airline                       0\n",
       "IATA_Code_Marketing_Airline                    0\n",
       "Operating_Airline                              0\n",
       "DOT_ID_Operating_Airline                       0\n",
       "IATA_Code_Operating_Airline                    0\n",
       "Tail_Number                                20548\n",
       "OriginAirportID                                0\n",
       "OriginAirportSeqID                             0\n",
       "OriginCityMarketID                             0\n",
       "OriginCityName                                 0\n",
       "OriginState                                    0\n",
       "OriginStateFips                                0\n",
       "OriginStateName                                0\n",
       "OriginWac                                      0\n",
       "DestAirportID                                  0\n",
       "DestAirportSeqID                               0\n",
       "DestCityMarketID                               0\n",
       "DestCityName                                   0\n",
       "DestState                                      0\n",
       "DestStateFips                                  0\n",
       "DestStateName                                  0\n",
       "DestWac                                        0\n",
       "DepDel15                                   86575\n",
       "CRSArrTime                                     0\n",
       "dtype: int64"
      ]
     },
     "execution_count": 7,
     "metadata": {},
     "output_type": "execute_result"
    }
   ],
   "source": [
    "data.isna().sum()"
   ]
  },
  {
   "cell_type": "markdown",
   "metadata": {},
   "source": [
    "The columns with NA values are Tail_Number and DepDel15. I will not use Tail_Number in building my model so that column can be removed."
   ]
  },
  {
   "cell_type": "code",
   "execution_count": 8,
   "metadata": {},
   "outputs": [
    {
     "data": {
      "text/plain": [
       "NaN    85462\n",
       "1.0     1522\n",
       "0.0     1389\n",
       "Name: DepDel15, dtype: int64"
      ]
     },
     "execution_count": 8,
     "metadata": {},
     "output_type": "execute_result"
    }
   ],
   "source": [
    "data[(data['Cancelled'] == True)]['DepDel15'].value_counts(dropna=False)"
   ]
  },
  {
   "cell_type": "markdown",
   "metadata": {},
   "source": [
    "Most of these missing values are because the flight was cancelled. Notice that while most cancelled flights are NA, there are still valid values of DepDel15 for cancelled flights, and they appear pretty evenly split between 1 and 0. A flight can be delayed and then cancelled, or cancelled without being previously delayed, so cancelled flights should not be NA if data is clean."
   ]
  },
  {
   "cell_type": "code",
   "execution_count": 9,
   "metadata": {},
   "outputs": [
    {
     "data": {
      "text/plain": [
       "Endeavor Air Inc.         1109\n",
       "Frontier Airlines Inc.       4\n",
       "Name: Airline, dtype: int64"
      ]
     },
     "execution_count": 9,
     "metadata": {},
     "output_type": "execute_result"
    }
   ],
   "source": [
    "data[(data['DepDel15'].isna()) & (data['Cancelled'] == False)]['Airline'].value_counts()"
   ]
  },
  {
   "cell_type": "markdown",
   "metadata": {},
   "source": [
    "The other NA values seem to come from two specific airlines: Endeavor and Frontier (mostly Endeavor). There doesn't seem to be a clear indicator as to whether these values should be 0 or 1, and I don't want to train the model on incorrect data, so I think the model will be better if we remove these values, which represent about 1.5% of the total data."
   ]
  },
  {
   "cell_type": "code",
   "execution_count": 10,
   "metadata": {},
   "outputs": [
    {
     "data": {
      "text/plain": [
       "5602937"
      ]
     },
     "execution_count": 10,
     "metadata": {},
     "output_type": "execute_result"
    }
   ],
   "source": [
    "data_clean = data[~data['DepDel15'].isna()]\n",
    "len(data_clean)"
   ]
  },
  {
   "cell_type": "code",
   "execution_count": 11,
   "metadata": {},
   "outputs": [
    {
     "data": {
      "text/plain": [
       "0.0    4550887\n",
       "1.0    1052050\n",
       "Name: DepDel15, dtype: int64"
      ]
     },
     "execution_count": 11,
     "metadata": {},
     "output_type": "execute_result"
    }
   ],
   "source": [
    "data_clean['DepDel15'].value_counts(dropna=False)"
   ]
  },
  {
   "cell_type": "markdown",
   "metadata": {},
   "source": [
    "Let's examine arrival and departure hour to see if they are correlated with delays."
   ]
  },
  {
   "cell_type": "code",
   "execution_count": 12,
   "metadata": {},
   "outputs": [
    {
     "name": "stderr",
     "output_type": "stream",
     "text": [
      "C:\\Users\\bkbro\\AppData\\Local\\Temp\\ipykernel_14300\\2924734651.py:1: SettingWithCopyWarning: \n",
      "A value is trying to be set on a copy of a slice from a DataFrame.\n",
      "Try using .loc[row_indexer,col_indexer] = value instead\n",
      "\n",
      "See the caveats in the documentation: https://pandas.pydata.org/pandas-docs/stable/user_guide/indexing.html#returning-a-view-versus-a-copy\n",
      "  data_clean['CRSDepTimeHour'] = data_clean['CRSDepTime']//100\n",
      "C:\\Users\\bkbro\\AppData\\Local\\Temp\\ipykernel_14300\\2924734651.py:2: SettingWithCopyWarning: \n",
      "A value is trying to be set on a copy of a slice from a DataFrame.\n",
      "Try using .loc[row_indexer,col_indexer] = value instead\n",
      "\n",
      "See the caveats in the documentation: https://pandas.pydata.org/pandas-docs/stable/user_guide/indexing.html#returning-a-view-versus-a-copy\n",
      "  data_clean['CRSArrTimeHour'] = data_clean['CRSArrTime']//100\n"
     ]
    },
    {
     "data": {
      "text/html": [
       "<div>\n",
       "<style scoped>\n",
       "    .dataframe tbody tr th:only-of-type {\n",
       "        vertical-align: middle;\n",
       "    }\n",
       "\n",
       "    .dataframe tbody tr th {\n",
       "        vertical-align: top;\n",
       "    }\n",
       "\n",
       "    .dataframe thead th {\n",
       "        text-align: right;\n",
       "    }\n",
       "</style>\n",
       "<table border=\"1\" class=\"dataframe\">\n",
       "  <thead>\n",
       "    <tr style=\"text-align: right;\">\n",
       "      <th></th>\n",
       "      <th>Unnamed: 0</th>\n",
       "      <th>FlightDate</th>\n",
       "      <th>Airline</th>\n",
       "      <th>Origin</th>\n",
       "      <th>Dest</th>\n",
       "      <th>Cancelled</th>\n",
       "      <th>Diverted</th>\n",
       "      <th>CRSDepTime</th>\n",
       "      <th>CRSElapsedTime</th>\n",
       "      <th>Distance</th>\n",
       "      <th>...</th>\n",
       "      <th>DestCityMarketID</th>\n",
       "      <th>DestCityName</th>\n",
       "      <th>DestState</th>\n",
       "      <th>DestStateFips</th>\n",
       "      <th>DestStateName</th>\n",
       "      <th>DestWac</th>\n",
       "      <th>DepDel15</th>\n",
       "      <th>CRSArrTime</th>\n",
       "      <th>CRSDepTimeHour</th>\n",
       "      <th>CRSArrTimeHour</th>\n",
       "    </tr>\n",
       "  </thead>\n",
       "  <tbody>\n",
       "    <tr>\n",
       "      <th>0</th>\n",
       "      <td>0</td>\n",
       "      <td>2018-01-23</td>\n",
       "      <td>Endeavor Air Inc.</td>\n",
       "      <td>ABY</td>\n",
       "      <td>ATL</td>\n",
       "      <td>False</td>\n",
       "      <td>False</td>\n",
       "      <td>1202</td>\n",
       "      <td>62.0</td>\n",
       "      <td>145.0</td>\n",
       "      <td>...</td>\n",
       "      <td>30397</td>\n",
       "      <td>Atlanta, GA</td>\n",
       "      <td>GA</td>\n",
       "      <td>13</td>\n",
       "      <td>Georgia</td>\n",
       "      <td>34</td>\n",
       "      <td>0.0</td>\n",
       "      <td>1304</td>\n",
       "      <td>12</td>\n",
       "      <td>13</td>\n",
       "    </tr>\n",
       "    <tr>\n",
       "      <th>1</th>\n",
       "      <td>1</td>\n",
       "      <td>2018-01-24</td>\n",
       "      <td>Endeavor Air Inc.</td>\n",
       "      <td>ABY</td>\n",
       "      <td>ATL</td>\n",
       "      <td>False</td>\n",
       "      <td>False</td>\n",
       "      <td>1202</td>\n",
       "      <td>62.0</td>\n",
       "      <td>145.0</td>\n",
       "      <td>...</td>\n",
       "      <td>30397</td>\n",
       "      <td>Atlanta, GA</td>\n",
       "      <td>GA</td>\n",
       "      <td>13</td>\n",
       "      <td>Georgia</td>\n",
       "      <td>34</td>\n",
       "      <td>0.0</td>\n",
       "      <td>1304</td>\n",
       "      <td>12</td>\n",
       "      <td>13</td>\n",
       "    </tr>\n",
       "    <tr>\n",
       "      <th>2</th>\n",
       "      <td>2</td>\n",
       "      <td>2018-01-25</td>\n",
       "      <td>Endeavor Air Inc.</td>\n",
       "      <td>ABY</td>\n",
       "      <td>ATL</td>\n",
       "      <td>False</td>\n",
       "      <td>False</td>\n",
       "      <td>1202</td>\n",
       "      <td>62.0</td>\n",
       "      <td>145.0</td>\n",
       "      <td>...</td>\n",
       "      <td>30397</td>\n",
       "      <td>Atlanta, GA</td>\n",
       "      <td>GA</td>\n",
       "      <td>13</td>\n",
       "      <td>Georgia</td>\n",
       "      <td>34</td>\n",
       "      <td>0.0</td>\n",
       "      <td>1304</td>\n",
       "      <td>12</td>\n",
       "      <td>13</td>\n",
       "    </tr>\n",
       "    <tr>\n",
       "      <th>3</th>\n",
       "      <td>3</td>\n",
       "      <td>2018-01-26</td>\n",
       "      <td>Endeavor Air Inc.</td>\n",
       "      <td>ABY</td>\n",
       "      <td>ATL</td>\n",
       "      <td>False</td>\n",
       "      <td>False</td>\n",
       "      <td>1202</td>\n",
       "      <td>62.0</td>\n",
       "      <td>145.0</td>\n",
       "      <td>...</td>\n",
       "      <td>30397</td>\n",
       "      <td>Atlanta, GA</td>\n",
       "      <td>GA</td>\n",
       "      <td>13</td>\n",
       "      <td>Georgia</td>\n",
       "      <td>34</td>\n",
       "      <td>0.0</td>\n",
       "      <td>1304</td>\n",
       "      <td>12</td>\n",
       "      <td>13</td>\n",
       "    </tr>\n",
       "    <tr>\n",
       "      <th>4</th>\n",
       "      <td>4</td>\n",
       "      <td>2018-01-27</td>\n",
       "      <td>Endeavor Air Inc.</td>\n",
       "      <td>ABY</td>\n",
       "      <td>ATL</td>\n",
       "      <td>False</td>\n",
       "      <td>False</td>\n",
       "      <td>1400</td>\n",
       "      <td>60.0</td>\n",
       "      <td>145.0</td>\n",
       "      <td>...</td>\n",
       "      <td>30397</td>\n",
       "      <td>Atlanta, GA</td>\n",
       "      <td>GA</td>\n",
       "      <td>13</td>\n",
       "      <td>Georgia</td>\n",
       "      <td>34</td>\n",
       "      <td>0.0</td>\n",
       "      <td>1500</td>\n",
       "      <td>14</td>\n",
       "      <td>15</td>\n",
       "    </tr>\n",
       "  </tbody>\n",
       "</table>\n",
       "<p>5 rows × 43 columns</p>\n",
       "</div>"
      ],
      "text/plain": [
       "   Unnamed: 0  FlightDate            Airline Origin Dest  Cancelled  Diverted  \\\n",
       "0           0  2018-01-23  Endeavor Air Inc.    ABY  ATL      False     False   \n",
       "1           1  2018-01-24  Endeavor Air Inc.    ABY  ATL      False     False   \n",
       "2           2  2018-01-25  Endeavor Air Inc.    ABY  ATL      False     False   \n",
       "3           3  2018-01-26  Endeavor Air Inc.    ABY  ATL      False     False   \n",
       "4           4  2018-01-27  Endeavor Air Inc.    ABY  ATL      False     False   \n",
       "\n",
       "   CRSDepTime  CRSElapsedTime  Distance  ...  DestCityMarketID  DestCityName  \\\n",
       "0        1202            62.0     145.0  ...             30397   Atlanta, GA   \n",
       "1        1202            62.0     145.0  ...             30397   Atlanta, GA   \n",
       "2        1202            62.0     145.0  ...             30397   Atlanta, GA   \n",
       "3        1202            62.0     145.0  ...             30397   Atlanta, GA   \n",
       "4        1400            60.0     145.0  ...             30397   Atlanta, GA   \n",
       "\n",
       "   DestState  DestStateFips  DestStateName DestWac DepDel15  CRSArrTime  \\\n",
       "0         GA             13        Georgia      34      0.0        1304   \n",
       "1         GA             13        Georgia      34      0.0        1304   \n",
       "2         GA             13        Georgia      34      0.0        1304   \n",
       "3         GA             13        Georgia      34      0.0        1304   \n",
       "4         GA             13        Georgia      34      0.0        1500   \n",
       "\n",
       "  CRSDepTimeHour CRSArrTimeHour  \n",
       "0             12             13  \n",
       "1             12             13  \n",
       "2             12             13  \n",
       "3             12             13  \n",
       "4             14             15  \n",
       "\n",
       "[5 rows x 43 columns]"
      ]
     },
     "execution_count": 12,
     "metadata": {},
     "output_type": "execute_result"
    }
   ],
   "source": [
    "data_clean['CRSDepTimeHour'] = data_clean['CRSDepTime']//100\n",
    "data_clean['CRSArrTimeHour'] = data_clean['CRSArrTime']//100\n",
    "data_clean.head()"
   ]
  },
  {
   "cell_type": "code",
   "execution_count": 13,
   "metadata": {},
   "outputs": [
    {
     "data": {
      "text/plain": [
       "<Axes: xlabel='CRSDepTimeHour'>"
      ]
     },
     "execution_count": 13,
     "metadata": {},
     "output_type": "execute_result"
    },
    {
     "data": {
      "image/png": "[encoded data removed]",
      "text/plain": [
       "<Figure size 640x480 with 1 Axes>"
      ]
     },
     "metadata": {},
     "output_type": "display_data"
    }
   ],
   "source": [
    "# Plot average delay times by column value\n",
    "def investigate(col, df = data_clean, numerical = False):\n",
    "    grp = df.groupby(col)['DepDel15'].mean()\n",
    "    baseline = grp.mean()\n",
    "    if numerical:\n",
    "        return (grp - baseline).plot.line()\n",
    "    return (grp - baseline).plot.bar()\n",
    "investigate('CRSDepTimeHour')"
   ]
  },
  {
   "cell_type": "code",
   "execution_count": 14,
   "metadata": {},
   "outputs": [
    {
     "data": {
      "text/plain": [
       "<Axes: ylabel='Frequency'>"
      ]
     },
     "execution_count": 14,
     "metadata": {},
     "output_type": "execute_result"
    },
    {
     "data": {
      "image/png": "[encoded data removed]",
      "text/plain": [
       "<Figure size 640x480 with 1 Axes>"
      ]
     },
     "metadata": {},
     "output_type": "display_data"
    }
   ],
   "source": [
    "data_clean['CRSDepTimeHour'].plot.hist(bins=24, log=True)"
   ]
  },
  {
   "cell_type": "code",
   "execution_count": 15,
   "metadata": {},
   "outputs": [
    {
     "name": "stderr",
     "output_type": "stream",
     "text": [
      "C:\\Users\\bkbro\\AppData\\Local\\Temp\\ipykernel_14300\\353534210.py:1: SettingWithCopyWarning: \n",
      "A value is trying to be set on a copy of a slice from a DataFrame.\n",
      "Try using .loc[row_indexer,col_indexer] = value instead\n",
      "\n",
      "See the caveats in the documentation: https://pandas.pydata.org/pandas-docs/stable/user_guide/indexing.html#returning-a-view-versus-a-copy\n",
      "  data_clean['CRSElapsedTimeHour'] = data_clean['CRSElapsedTime']//60\n"
     ]
    },
    {
     "data": {
      "text/plain": [
       "<Axes: xlabel='CRSElapsedTimeHour'>"
      ]
     },
     "execution_count": 15,
     "metadata": {},
     "output_type": "execute_result"
    },
    {
     "data": {
      "image/png": "[encoded data removed]",
      "text/plain": [
       "<Figure size 640x480 with 1 Axes>"
      ]
     },
     "metadata": {},
     "output_type": "display_data"
    }
   ],
   "source": [
    "data_clean['CRSElapsedTimeHour'] = data_clean['CRSElapsedTime']//60\n",
    "\n",
    "investigate('CRSElapsedTimeHour')"
   ]
  },
  {
   "cell_type": "markdown",
   "metadata": {},
   "source": [
    "There seems to be some nonsensical data in this column (i.e. flights lasting longer than 24 hours or negative hours) so I will not use this column. Next I will investigate month and day of week. I think that day of month will be redundant if I include these two features."
   ]
  },
  {
   "cell_type": "code",
   "execution_count": 16,
   "metadata": {},
   "outputs": [
    {
     "data": {
      "text/plain": [
       "<Axes: xlabel='Month'>"
      ]
     },
     "execution_count": 16,
     "metadata": {},
     "output_type": "execute_result"
    },
    {
     "data": {
      "image/png": "[encoded data removed]",
      "text/plain": [
       "<Figure size 640x480 with 1 Axes>"
      ]
     },
     "metadata": {},
     "output_type": "display_data"
    }
   ],
   "source": [
    "investigate('Month')"
   ]
  },
  {
   "cell_type": "code",
   "execution_count": 17,
   "metadata": {},
   "outputs": [
    {
     "data": {
      "text/plain": [
       "<Axes: xlabel='DayOfWeek'>"
      ]
     },
     "execution_count": 17,
     "metadata": {},
     "output_type": "execute_result"
    },
    {
     "data": {
      "image/png": "[encoded data removed]",
      "text/plain": [
       "<Figure size 640x480 with 1 Axes>"
      ]
     },
     "metadata": {},
     "output_type": "display_data"
    }
   ],
   "source": [
    "investigate('DayOfWeek')"
   ]
  },
  {
   "cell_type": "markdown",
   "metadata": {},
   "source": [
    "The month and day of week look like they have a trend, with higher values in the middle and lower ones on the sides. A linear model may not be very good at fitting this data. I also want to look and see if days with more flights tended to have more delays."
   ]
  },
  {
   "cell_type": "code",
   "execution_count": 18,
   "metadata": {},
   "outputs": [],
   "source": [
    "data_clean2 = data_clean.copy()\n",
    "# Create a column for the number of flights on that given day\n",
    "flights_per_day = data_clean2.groupby(['Month', 'DayofMonth'])[['Year']].count().reset_index()\n",
    "flights_per_day = flights_per_day.rename(columns = {'Year': 'FlightsPerDay'})\n",
    "# This data frame does not have data for Feb. 29, we will set its value equal to Feb. 28 just in case\n",
    "feb28_flights = flights_per_day.at[58, 'FlightsPerDay']\n",
    "flights_per_day = pd.concat([flights_per_day, \n",
    "                             pd.DataFrame({'Month': [2], 'DayofMonth': [29], 'FlightsPerDay': [feb28_flights]})],\n",
    "                            ignore_index = True)\n",
    "\n",
    "data_clean2 = data_clean2.merge(flights_per_day, on = ['Month', 'DayofMonth'])"
   ]
  },
  {
   "cell_type": "code",
   "execution_count": 19,
   "metadata": {},
   "outputs": [
    {
     "data": {
      "text/plain": [
       "<Axes: xlabel='Flights1000'>"
      ]
     },
     "execution_count": 19,
     "metadata": {},
     "output_type": "execute_result"
    },
    {
     "data": {
      "image/png": "[encoded data removed]",
      "text/plain": [
       "<Figure size 640x480 with 1 Axes>"
      ]
     },
     "metadata": {},
     "output_type": "display_data"
    }
   ],
   "source": [
    "data_clean2['Flights1000'] = data_clean2['FlightsPerDay']//1000\n",
    "investigate('Flights1000', df = data_clean2)"
   ]
  },
  {
   "cell_type": "markdown",
   "metadata": {},
   "source": [
    "There seems to be a downward trend between number of flights when in groups of 1000. Additionally, I will make a feature that is the delay rate of each day of the year. However, to avoid an information leak I need to make this variable after doing train-test split so the rates are only calculated using training data.\n",
    "\n",
    "I also wanted to make a variable that has each airport's rate of delayed flights, for origin and departure airports. I could not use this feature because there are airports in the final test data that are not in the training data."
   ]
  },
  {
   "cell_type": "code",
   "execution_count": 20,
   "metadata": {},
   "outputs": [
    {
     "data": {
      "text/html": [
       "<div>\n",
       "<style scoped>\n",
       "    .dataframe tbody tr th:only-of-type {\n",
       "        vertical-align: middle;\n",
       "    }\n",
       "\n",
       "    .dataframe tbody tr th {\n",
       "        vertical-align: top;\n",
       "    }\n",
       "\n",
       "    .dataframe thead th {\n",
       "        text-align: right;\n",
       "    }\n",
       "</style>\n",
       "<table border=\"1\" class=\"dataframe\">\n",
       "  <thead>\n",
       "    <tr style=\"text-align: right;\">\n",
       "      <th></th>\n",
       "      <th>Unnamed: 0</th>\n",
       "      <th>FlightDate</th>\n",
       "      <th>Airline</th>\n",
       "      <th>Origin</th>\n",
       "      <th>Dest</th>\n",
       "      <th>Cancelled</th>\n",
       "      <th>Diverted</th>\n",
       "      <th>CRSDepTime</th>\n",
       "      <th>CRSElapsedTime</th>\n",
       "      <th>Distance</th>\n",
       "      <th>...</th>\n",
       "      <th>DestStateFips</th>\n",
       "      <th>DestStateName</th>\n",
       "      <th>DestWac</th>\n",
       "      <th>DepDel15</th>\n",
       "      <th>CRSArrTime</th>\n",
       "      <th>CRSDepTimeHour</th>\n",
       "      <th>CRSArrTimeHour</th>\n",
       "      <th>CRSElapsedTimeHour</th>\n",
       "      <th>FlightsPerDay</th>\n",
       "      <th>Flights1000</th>\n",
       "    </tr>\n",
       "  </thead>\n",
       "  <tbody>\n",
       "    <tr>\n",
       "      <th>0</th>\n",
       "      <td>0</td>\n",
       "      <td>2018-01-23</td>\n",
       "      <td>Endeavor Air Inc.</td>\n",
       "      <td>ABY</td>\n",
       "      <td>ATL</td>\n",
       "      <td>False</td>\n",
       "      <td>False</td>\n",
       "      <td>1202</td>\n",
       "      <td>62.0</td>\n",
       "      <td>145.0</td>\n",
       "      <td>...</td>\n",
       "      <td>13</td>\n",
       "      <td>Georgia</td>\n",
       "      <td>34</td>\n",
       "      <td>0.0</td>\n",
       "      <td>1304</td>\n",
       "      <td>12</td>\n",
       "      <td>13</td>\n",
       "      <td>1.0</td>\n",
       "      <td>14595</td>\n",
       "      <td>14</td>\n",
       "    </tr>\n",
       "    <tr>\n",
       "      <th>1</th>\n",
       "      <td>29</td>\n",
       "      <td>2018-01-23</td>\n",
       "      <td>Endeavor Air Inc.</td>\n",
       "      <td>ATL</td>\n",
       "      <td>ABY</td>\n",
       "      <td>False</td>\n",
       "      <td>False</td>\n",
       "      <td>1037</td>\n",
       "      <td>60.0</td>\n",
       "      <td>145.0</td>\n",
       "      <td>...</td>\n",
       "      <td>13</td>\n",
       "      <td>Georgia</td>\n",
       "      <td>34</td>\n",
       "      <td>0.0</td>\n",
       "      <td>1137</td>\n",
       "      <td>10</td>\n",
       "      <td>11</td>\n",
       "      <td>1.0</td>\n",
       "      <td>14595</td>\n",
       "      <td>14</td>\n",
       "    </tr>\n",
       "    <tr>\n",
       "      <th>2</th>\n",
       "      <td>58</td>\n",
       "      <td>2018-01-23</td>\n",
       "      <td>Endeavor Air Inc.</td>\n",
       "      <td>ATL</td>\n",
       "      <td>EVV</td>\n",
       "      <td>False</td>\n",
       "      <td>False</td>\n",
       "      <td>939</td>\n",
       "      <td>89.0</td>\n",
       "      <td>350.0</td>\n",
       "      <td>...</td>\n",
       "      <td>18</td>\n",
       "      <td>Indiana</td>\n",
       "      <td>42</td>\n",
       "      <td>0.0</td>\n",
       "      <td>1008</td>\n",
       "      <td>9</td>\n",
       "      <td>10</td>\n",
       "      <td>1.0</td>\n",
       "      <td>14595</td>\n",
       "      <td>14</td>\n",
       "    </tr>\n",
       "    <tr>\n",
       "      <th>3</th>\n",
       "      <td>86</td>\n",
       "      <td>2018-01-23</td>\n",
       "      <td>Endeavor Air Inc.</td>\n",
       "      <td>BTV</td>\n",
       "      <td>DTW</td>\n",
       "      <td>False</td>\n",
       "      <td>False</td>\n",
       "      <td>1240</td>\n",
       "      <td>135.0</td>\n",
       "      <td>537.0</td>\n",
       "      <td>...</td>\n",
       "      <td>26</td>\n",
       "      <td>Michigan</td>\n",
       "      <td>43</td>\n",
       "      <td>0.0</td>\n",
       "      <td>1455</td>\n",
       "      <td>12</td>\n",
       "      <td>14</td>\n",
       "      <td>2.0</td>\n",
       "      <td>14595</td>\n",
       "      <td>14</td>\n",
       "    </tr>\n",
       "    <tr>\n",
       "      <th>4</th>\n",
       "      <td>143</td>\n",
       "      <td>2018-01-23</td>\n",
       "      <td>Endeavor Air Inc.</td>\n",
       "      <td>EWN</td>\n",
       "      <td>ATL</td>\n",
       "      <td>False</td>\n",
       "      <td>False</td>\n",
       "      <td>1415</td>\n",
       "      <td>110.0</td>\n",
       "      <td>433.0</td>\n",
       "      <td>...</td>\n",
       "      <td>13</td>\n",
       "      <td>Georgia</td>\n",
       "      <td>34</td>\n",
       "      <td>0.0</td>\n",
       "      <td>1605</td>\n",
       "      <td>14</td>\n",
       "      <td>16</td>\n",
       "      <td>1.0</td>\n",
       "      <td>14595</td>\n",
       "      <td>14</td>\n",
       "    </tr>\n",
       "  </tbody>\n",
       "</table>\n",
       "<p>5 rows × 46 columns</p>\n",
       "</div>"
      ],
      "text/plain": [
       "   Unnamed: 0  FlightDate            Airline Origin Dest  Cancelled  Diverted  \\\n",
       "0           0  2018-01-23  Endeavor Air Inc.    ABY  ATL      False     False   \n",
       "1          29  2018-01-23  Endeavor Air Inc.    ATL  ABY      False     False   \n",
       "2          58  2018-01-23  Endeavor Air Inc.    ATL  EVV      False     False   \n",
       "3          86  2018-01-23  Endeavor Air Inc.    BTV  DTW      False     False   \n",
       "4         143  2018-01-23  Endeavor Air Inc.    EWN  ATL      False     False   \n",
       "\n",
       "   CRSDepTime  CRSElapsedTime  Distance  ...  DestStateFips  DestStateName  \\\n",
       "0        1202            62.0     145.0  ...             13        Georgia   \n",
       "1        1037            60.0     145.0  ...             13        Georgia   \n",
       "2         939            89.0     350.0  ...             18        Indiana   \n",
       "3        1240           135.0     537.0  ...             26       Michigan   \n",
       "4        1415           110.0     433.0  ...             13        Georgia   \n",
       "\n",
       "   DestWac  DepDel15  CRSArrTime CRSDepTimeHour CRSArrTimeHour  \\\n",
       "0       34       0.0        1304             12             13   \n",
       "1       34       0.0        1137             10             11   \n",
       "2       42       0.0        1008              9             10   \n",
       "3       43       0.0        1455             12             14   \n",
       "4       34       0.0        1605             14             16   \n",
       "\n",
       "   CRSElapsedTimeHour FlightsPerDay Flights1000  \n",
       "0                 1.0         14595          14  \n",
       "1                 1.0         14595          14  \n",
       "2                 1.0         14595          14  \n",
       "3                 2.0         14595          14  \n",
       "4                 1.0         14595          14  \n",
       "\n",
       "[5 rows x 46 columns]"
      ]
     },
     "execution_count": 20,
     "metadata": {},
     "output_type": "execute_result"
    }
   ],
   "source": [
    "# The following code does not work because our test data has airports that do not exist in \n",
    "# the training data\n",
    "# Compute origin delay rates\n",
    "# origin_delay_rates = data_clean.groupby('Origin')[['DepDel15']].mean().reset_index()\n",
    "# origin_delay_rates = origin_delay_rates.rename(columns = {'DepDel15': 'OriginDelayRate'})\n",
    "# data_clean = data_clean.merge(origin_delay_rates, on = 'Origin')\n",
    "\n",
    "# Compute destination delay rates\n",
    "#dest_delay_rates = data_clean.groupby('Dest')[['DepDel15']].mean().reset_index()\n",
    "# dest_delay_rates = dest_delay_rates.rename(columns = {'DepDel15': 'DestDelayRate'})\n",
    "# data_clean = data_clean.merge(dest_delay_rates, on = 'Dest')\n",
    "data_clean2.head()"
   ]
  },
  {
   "cell_type": "markdown",
   "metadata": {},
   "source": [
    "# Section 3: Model Prediction\n",
    "\n",
    "In this section, you should import relevant modeling/scikit-learn libraries and create a prediction model from your features. You should carefuly evaluate how your model performs based on the data you already have.\n",
    "\n",
    "**Hint**: We are using a real world dataset with low correlation between the raw features and prediction class. You may have to carefully think about how to hand-engineer features from the raw features to capture correlation using a machine learning model.\n",
    "\n",
    "\n",
    "**Hint 2**: When the instructors ran this assignment, we achieved an accuracy of 0.74 and AUC score of 0.54 on held out data. We do not expect high accuracy for this task, but your goal is to create a prediction model that is better than the simplest baseline - i.e. a model that predictions the majority class for all samples.\n"
   ]
  },
  {
   "cell_type": "code",
   "execution_count": 34,
   "metadata": {},
   "outputs": [],
   "source": [
    "features = ['CRSArrTime', 'CRSDepTime', 'FlightsPerDay', 'DayOfWeek']\n",
    "\n",
    "eval_data = data_clean2[features + ['Month', 'DayofMonth', 'FlightDate', 'DepDel15']]\n",
    "#y = data_clean2['DepDel15']"
   ]
  },
  {
   "cell_type": "markdown",
   "metadata": {},
   "source": [
    "In order to make my daily delay average feature, I had to use a non-standard workflow that does the train-test split, then creates the feature, then creates the feature matrix and class vector."
   ]
  },
  {
   "cell_type": "code",
   "execution_count": 35,
   "metadata": {},
   "outputs": [],
   "source": [
    "from sklearn.model_selection import train_test_split\n",
    "# Stratify by flight date to preserve ratios of flight date\n",
    "# We want a good balance of flight dates in the training and test data\n",
    "train_data, val_data = train_test_split(eval_data, stratify = eval_data['FlightDate'])\n",
    "\n",
    "# add flight averages\n",
    "day_delay_rates = train_data.groupby(['Month', 'DayofMonth'])[['DepDel15']].mean().reset_index()\n",
    "day_delay_rates = day_delay_rates.rename(columns = {'DepDel15': 'DayDelayRate'})\n",
    "\n",
    "train_data = train_data.merge(day_delay_rates, on = ['Month', 'DayofMonth'])\n",
    "val_data = val_data.merge(day_delay_rates, on = ['Month', 'DayofMonth'])\n",
    "# remove columns we will not use to fit the model\n",
    "X_train = train_data[features + ['DayDelayRate']].to_numpy()\n",
    "y_train = train_data['DepDel15'].to_numpy()\n",
    "X_val= val_data[features + ['DayDelayRate']].to_numpy()\n",
    "y_val= val_data['DepDel15'].to_numpy()"
   ]
  },
  {
   "cell_type": "code",
   "execution_count": 23,
   "metadata": {},
   "outputs": [
    {
     "name": "stdout",
     "output_type": "stream",
     "text": [
      "              precision    recall  f1-score   support\n",
      "\n",
      "         0.0       0.81      1.00      0.90   1138053\n",
      "         1.0       0.00      0.00      0.00    262682\n",
      "\n",
      "    accuracy                           0.81   1400735\n",
      "   macro avg       0.41      0.50      0.45   1400735\n",
      "weighted avg       0.66      0.81      0.73   1400735\n",
      "\n"
     ]
    }
   ],
   "source": [
    "from sklearn.metrics import classification_report\n",
    "import numpy as np\n",
    "ypred = np.zeros(y_val.shape) #always predict no delay\n",
    "print(classification_report(y_val, ypred, zero_division = 0))"
   ]
  },
  {
   "cell_type": "code",
   "execution_count": 38,
   "metadata": {},
   "outputs": [
    {
     "name": "stdout",
     "output_type": "stream",
     "text": [
      "              precision    recall  f1-score   support\n",
      "\n",
      "         0.0       0.83      0.81      0.82   1137613\n",
      "         1.0       0.26      0.29      0.27    263122\n",
      "\n",
      "    accuracy                           0.71   1400735\n",
      "   macro avg       0.54      0.55      0.55   1400735\n",
      "weighted avg       0.72      0.71      0.72   1400735\n",
      "\n"
     ]
    }
   ],
   "source": [
    "from sklearn.tree import DecisionTreeClassifier\n",
    "\n",
    "model = DecisionTreeClassifier(class_weight = 'balanced')\n",
    "# X_train = std.fit_transform(X_train)\n",
    "model.fit(X_train, y_train)\n",
    "ypred = model.predict(X_val)\n",
    "print(classification_report(y_val, ypred))"
   ]
  },
  {
   "cell_type": "markdown",
   "metadata": {},
   "source": [
    "# Section 4: Final Evaluation\n",
    "\n",
    "In this section, you should use your prediction model on held out data. For each sample in 'testing_X.csv', generate a binary prediction on whether the flight will be delayed by 15min or more.\n",
    "\n",
    "**Important**: Create a csv file named that is a list of your predictions. It should be named './data/[CNET_ID]_final_assignment.csv' file, and contain only one row and columns equal to the sample size. \n",
    "\n",
    "**IMPORTANT**: Make sure that you create the new file in the \"data\" folder and with that file name. You may run into errors if you place it anywhere else. \n",
    "\n",
    "\n",
    "Note that you do not have true classification labels on this dataset.\n"
   ]
  },
  {
   "cell_type": "code",
   "execution_count": 27,
   "metadata": {},
   "outputs": [
    {
     "data": {
      "text/html": [
       "<div>\n",
       "<style scoped>\n",
       "    .dataframe tbody tr th:only-of-type {\n",
       "        vertical-align: middle;\n",
       "    }\n",
       "\n",
       "    .dataframe tbody tr th {\n",
       "        vertical-align: top;\n",
       "    }\n",
       "\n",
       "    .dataframe thead th {\n",
       "        text-align: right;\n",
       "    }\n",
       "</style>\n",
       "<table border=\"1\" class=\"dataframe\">\n",
       "  <thead>\n",
       "    <tr style=\"text-align: right;\">\n",
       "      <th></th>\n",
       "      <th>Unnamed: 0</th>\n",
       "      <th>FlightDate</th>\n",
       "      <th>Airline</th>\n",
       "      <th>Origin</th>\n",
       "      <th>Dest</th>\n",
       "      <th>Cancelled</th>\n",
       "      <th>Diverted</th>\n",
       "      <th>CRSDepTime</th>\n",
       "      <th>CRSElapsedTime</th>\n",
       "      <th>Distance</th>\n",
       "      <th>...</th>\n",
       "      <th>OriginWac</th>\n",
       "      <th>DestAirportID</th>\n",
       "      <th>DestAirportSeqID</th>\n",
       "      <th>DestCityMarketID</th>\n",
       "      <th>DestCityName</th>\n",
       "      <th>DestState</th>\n",
       "      <th>DestStateFips</th>\n",
       "      <th>DestStateName</th>\n",
       "      <th>DestWac</th>\n",
       "      <th>CRSArrTime</th>\n",
       "    </tr>\n",
       "  </thead>\n",
       "  <tbody>\n",
       "    <tr>\n",
       "      <th>0</th>\n",
       "      <td>0</td>\n",
       "      <td>2019-04-01</td>\n",
       "      <td>Envoy Air</td>\n",
       "      <td>LIT</td>\n",
       "      <td>ORD</td>\n",
       "      <td>False</td>\n",
       "      <td>False</td>\n",
       "      <td>1212</td>\n",
       "      <td>113.0</td>\n",
       "      <td>552.0</td>\n",
       "      <td>...</td>\n",
       "      <td>71</td>\n",
       "      <td>13930</td>\n",
       "      <td>1393007</td>\n",
       "      <td>30977</td>\n",
       "      <td>Chicago, IL</td>\n",
       "      <td>IL</td>\n",
       "      <td>17</td>\n",
       "      <td>Illinois</td>\n",
       "      <td>41</td>\n",
       "      <td>1405</td>\n",
       "    </tr>\n",
       "    <tr>\n",
       "      <th>1</th>\n",
       "      <td>1</td>\n",
       "      <td>2019-04-02</td>\n",
       "      <td>Envoy Air</td>\n",
       "      <td>LIT</td>\n",
       "      <td>ORD</td>\n",
       "      <td>False</td>\n",
       "      <td>False</td>\n",
       "      <td>1212</td>\n",
       "      <td>113.0</td>\n",
       "      <td>552.0</td>\n",
       "      <td>...</td>\n",
       "      <td>71</td>\n",
       "      <td>13930</td>\n",
       "      <td>1393007</td>\n",
       "      <td>30977</td>\n",
       "      <td>Chicago, IL</td>\n",
       "      <td>IL</td>\n",
       "      <td>17</td>\n",
       "      <td>Illinois</td>\n",
       "      <td>41</td>\n",
       "      <td>1405</td>\n",
       "    </tr>\n",
       "    <tr>\n",
       "      <th>2</th>\n",
       "      <td>2</td>\n",
       "      <td>2019-04-03</td>\n",
       "      <td>Envoy Air</td>\n",
       "      <td>LIT</td>\n",
       "      <td>ORD</td>\n",
       "      <td>False</td>\n",
       "      <td>False</td>\n",
       "      <td>1212</td>\n",
       "      <td>113.0</td>\n",
       "      <td>552.0</td>\n",
       "      <td>...</td>\n",
       "      <td>71</td>\n",
       "      <td>13930</td>\n",
       "      <td>1393007</td>\n",
       "      <td>30977</td>\n",
       "      <td>Chicago, IL</td>\n",
       "      <td>IL</td>\n",
       "      <td>17</td>\n",
       "      <td>Illinois</td>\n",
       "      <td>41</td>\n",
       "      <td>1405</td>\n",
       "    </tr>\n",
       "    <tr>\n",
       "      <th>3</th>\n",
       "      <td>3</td>\n",
       "      <td>2019-04-04</td>\n",
       "      <td>Envoy Air</td>\n",
       "      <td>LIT</td>\n",
       "      <td>ORD</td>\n",
       "      <td>False</td>\n",
       "      <td>False</td>\n",
       "      <td>1212</td>\n",
       "      <td>113.0</td>\n",
       "      <td>552.0</td>\n",
       "      <td>...</td>\n",
       "      <td>71</td>\n",
       "      <td>13930</td>\n",
       "      <td>1393007</td>\n",
       "      <td>30977</td>\n",
       "      <td>Chicago, IL</td>\n",
       "      <td>IL</td>\n",
       "      <td>17</td>\n",
       "      <td>Illinois</td>\n",
       "      <td>41</td>\n",
       "      <td>1405</td>\n",
       "    </tr>\n",
       "    <tr>\n",
       "      <th>4</th>\n",
       "      <td>4</td>\n",
       "      <td>2019-04-05</td>\n",
       "      <td>Envoy Air</td>\n",
       "      <td>LIT</td>\n",
       "      <td>ORD</td>\n",
       "      <td>False</td>\n",
       "      <td>False</td>\n",
       "      <td>1212</td>\n",
       "      <td>113.0</td>\n",
       "      <td>552.0</td>\n",
       "      <td>...</td>\n",
       "      <td>71</td>\n",
       "      <td>13930</td>\n",
       "      <td>1393007</td>\n",
       "      <td>30977</td>\n",
       "      <td>Chicago, IL</td>\n",
       "      <td>IL</td>\n",
       "      <td>17</td>\n",
       "      <td>Illinois</td>\n",
       "      <td>41</td>\n",
       "      <td>1405</td>\n",
       "    </tr>\n",
       "  </tbody>\n",
       "</table>\n",
       "<p>5 rows × 40 columns</p>\n",
       "</div>"
      ],
      "text/plain": [
       "   Unnamed: 0  FlightDate    Airline Origin Dest  Cancelled  Diverted  \\\n",
       "0           0  2019-04-01  Envoy Air    LIT  ORD      False     False   \n",
       "1           1  2019-04-02  Envoy Air    LIT  ORD      False     False   \n",
       "2           2  2019-04-03  Envoy Air    LIT  ORD      False     False   \n",
       "3           3  2019-04-04  Envoy Air    LIT  ORD      False     False   \n",
       "4           4  2019-04-05  Envoy Air    LIT  ORD      False     False   \n",
       "\n",
       "   CRSDepTime  CRSElapsedTime  Distance  ...  OriginWac  DestAirportID  \\\n",
       "0        1212           113.0     552.0  ...         71          13930   \n",
       "1        1212           113.0     552.0  ...         71          13930   \n",
       "2        1212           113.0     552.0  ...         71          13930   \n",
       "3        1212           113.0     552.0  ...         71          13930   \n",
       "4        1212           113.0     552.0  ...         71          13930   \n",
       "\n",
       "   DestAirportSeqID  DestCityMarketID  DestCityName DestState DestStateFips  \\\n",
       "0           1393007             30977   Chicago, IL        IL            17   \n",
       "1           1393007             30977   Chicago, IL        IL            17   \n",
       "2           1393007             30977   Chicago, IL        IL            17   \n",
       "3           1393007             30977   Chicago, IL        IL            17   \n",
       "4           1393007             30977   Chicago, IL        IL            17   \n",
       "\n",
       "   DestStateName DestWac CRSArrTime  \n",
       "0       Illinois      41       1405  \n",
       "1       Illinois      41       1405  \n",
       "2       Illinois      41       1405  \n",
       "3       Illinois      41       1405  \n",
       "4       Illinois      41       1405  \n",
       "\n",
       "[5 rows x 40 columns]"
      ]
     },
     "execution_count": 27,
     "metadata": {},
     "output_type": "execute_result"
    }
   ],
   "source": [
    "# Load data\n",
    "test = pd.read_csv('./data/testing_X.csv')\n",
    "test.head()"
   ]
  },
  {
   "cell_type": "code",
   "execution_count": 39,
   "metadata": {},
   "outputs": [],
   "source": [
    "# Create additional features\n",
    "test2 = test.copy()\n",
    "test2 = test2.merge(flights_per_day, on = ['Month', 'DayofMonth'], how = 'left')\n",
    "\n",
    "day_delay_rates = data_clean2.groupby(['Month', 'DayofMonth'])[['DepDel15']].mean().reset_index()\n",
    "day_delay_rates = day_delay_rates.rename(columns = {'DepDel15': 'DayDelayRate'})\n",
    "\n",
    "data_clean2 = data_clean2.merge(day_delay_rates, on = ['Month', 'DayofMonth'])\n",
    "test2 = test2.merge(day_delay_rates, on = ['Month', 'DayofMonth'])"
   ]
  },
  {
   "cell_type": "code",
   "execution_count": 40,
   "metadata": {},
   "outputs": [
    {
     "data": {
      "text/plain": [
       "array([0., 0., 0., ..., 1., 0., 0.])"
      ]
     },
     "execution_count": 40,
     "metadata": {},
     "output_type": "execute_result"
    }
   ],
   "source": [
    "# Re-fit model on whole training dataset for better accuracy\n",
    "X_train2 = data_clean2[features + ['DayDelayRate']].to_numpy()\n",
    "y_train2 = data_clean2['DepDel15'].to_numpy()\n",
    "\n",
    "X_test = test2[features + ['DayDelayRate']].to_numpy()\n",
    "#X_test = std.transform(X_test)\n",
    "final_model = DecisionTreeClassifier(class_weight = 'balanced')\n",
    "final_model.fit(X_train2, y_train2)\n",
    "\n",
    "y_test_pred = final_model.predict(X_test)\n",
    "y_test_pred"
   ]
  },
  {
   "cell_type": "code",
   "execution_count": 47,
   "metadata": {},
   "outputs": [],
   "source": [
    "# Write to file\n",
    "y_test_pred.tofile('./data/12263164_final_assignment.csv', sep = ',')"
   ]
  },
  {
   "cell_type": "markdown",
   "metadata": {},
   "source": [
    "# Section 5: Submission\n",
    "\n",
    "After you completed this assignment, please zip [(Mac Instructions)](https://support.apple.com/guide/mac-help/zip-and-unzip-files-and-folders-on-mac-mchlp2528/mac#:~:text=Compress%20a%20file%20or%20folder,item%20with%20the%20.zip%20extension.) [(Windows Instructions)](https://support.microsoft.com/en-us/windows/zip-and-unzip-files-8d28fa72-f2f9-712f-67df-f80cf89fd4e5) the **entire ASSIGMENT-2023 folder** and upload it to your Google Drive. Please upload the link to this file on Canvas."
   ]
  }
 ],
 "metadata": {
  "kernelspec": {
   "display_name": "Python 3 (ipykernel)",
   "language": "python",
   "name": "python3"
  },
  "language_info": {
   "codemirror_mode": {
    "name": "ipython",
    "version": 3
   },
   "file_extension": ".py",
   "mimetype": "text/x-python",
   "name": "python",
   "nbconvert_exporter": "python",
   "pygments_lexer": "ipython3",
   "version": "3.11.4"
  },
  "vscode": {
   "interpreter": {
    "hash": "31f2aee4e71d21fbe5cf8b01ff0e069b9275f58929596ceb00d14d90e3e16cd6"
   }
  }
 },
 "nbformat": 4,
 "nbformat_minor": 4
}
